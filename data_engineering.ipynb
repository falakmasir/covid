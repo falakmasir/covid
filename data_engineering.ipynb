{
 "cells": [
  {
   "cell_type": "markdown",
   "metadata": {},
   "source": [
    "# ML/NLP data scientist take-home exercise\n",
    "\n",
    "\n",
    "The 2019 coronavirus disease (COVID-19, https://en.wikipedia.org/wiki/Coronavirus_disease_2019) is an infectious disease caused by severe acute respiratory syndrome coronavirus 2 (SARS-CoV-2). The disease has spread globally, resulting in the 2019–20 coronavirus pandemic.\n",
    " \n",
    "Research into a solution for this problem is at full steam and, so far, more than 2000 research papers related to this have been published. As this number grows, keeping track of what is happening, recent results, etc., is becoming harder and harder. This is where modern advances in AI, ML and NLP are called for coming into action.\n",
    "\n",
    "## Your task\n",
    " \n",
    "Your mission is to create a report or dashboard that can be used by decision-makers and researchers to know what science results are being produced.\n",
    " \n",
    "## Data\n",
    " \n",
    "Many institutions and organizations, like the World Health Organization (WHO, https://www.who.int), or the Center for Disease Control and Prevention (CDC, https://www.cdc.gov) are gathering data and information related to the pandemic.\n",
    " \n",
    "One of these organizations is the MIDAS Coordination Center (https://midasnetwork.us/mcc/). They are actively compiling and sharing information through the GitHub repository https://github.com/midas-network/COVID-19. In particular, they are sharing an export their Mendeley paper collection as XML files in  \n",
    "https://github.com/midas-network/COVID-19/tree/master/documents/mendeley_library_files/xml_files\n",
    " \n",
    "**Note:** You are expected to use the latest XML as the source of documents but you are free to cross the information stored here with other freely available on the web.\n",
    "\n",
    "## Tasks\n",
    " \n",
    "Given a list of papers create a report with the results of:\n",
    " \n",
    "1. Read the most recent MIDAS Mendeley paper library XML file.\n",
    "2. Generate groups of similar papers and assign a meaningful label or group of tags to each group.\n",
    "3. Outline what papers inside each group better represent that group.\n",
    "4. For each paper, provide a brief \"one-liner\" description of what the paper's main idea is.\n",
    "5. Identify papers that represent potential breakthroughs"
   ]
  },
  {
   "cell_type": "markdown",
   "metadata": {},
   "source": [
    "## Task 1\n",
    "\n",
    "Read the most recent MIDAS Mendeley paper library XML file. You are expected to use the latest XML as the source of documents but you are free to cross the information stored here with other freely available on the web."
   ]
  },
  {
   "cell_type": "code",
   "execution_count": 1,
   "metadata": {},
   "outputs": [],
   "source": [
    "import xml.etree.ElementTree as ET\n",
    "import requests\n",
    "\n",
    "url = 'https://raw.githubusercontent.com/midas-network/COVID-19/master/documents/mendeley_library_files/xml_files/mendeley_document_library_2020-03-25.xml'\n",
    "document = ET.fromstring(requests.get(url).text)"
   ]
  },
  {
   "cell_type": "markdown",
   "metadata": {},
   "source": [
    "The xml files contains information such as title, authors, periodical, publisher, doi, ... and abstract that can be used for the purpose of grouping similar documents. Since we are not dealing with a large file and to facilitate the process in this exercise, I decided to convert the information into tabular format.\n",
    "\n",
    "Most of the records in this selection are accompanied with a doi number that can be used to validate the content of the xml file and retrieve more information about the publication. For this purpose I am using the crossref api to validate the title and author along with a publication timestamp. One can use the title, authors, etc. in case the doi is not sufficient."
   ]
  },
  {
   "cell_type": "code",
   "execution_count": 2,
   "metadata": {
    "scrolled": false
   },
   "outputs": [
    {
     "data": {
      "application/vnd.jupyter.widget-view+json": {
       "model_id": "36917221c5f346fba59d501b907727dc",
       "version_major": 2,
       "version_minor": 0
      },
      "text/plain": [
       "HBox(children=(FloatProgress(value=0.0, max=1061.0), HTML(value='')))"
      ]
     },
     "metadata": {},
     "output_type": "display_data"
    },
    {
     "name": "stdout",
     "output_type": "stream",
     "text": [
      "Failed on retrieve \n",
      "Failed on retrieve \n",
      "Failed on retrieve \n",
      "Failed on retrieve \n",
      "Failed on retrieve \n",
      "Failed on retrieve \n",
      "Failed on retrieve \n",
      "Failed on retrieve \n",
      "Failed on retrieve \n",
      "Failed on retrieve Resource not found.\n",
      "Failed on retrieve \n",
      "Failed on retrieve \n",
      "Failed on retrieve \n",
      "Failed on retrieve Resource not found.\n",
      "Failed on retrieve \n",
      "Failed on retrieve \n",
      "Failed on retrieve \n",
      "Failed on retrieve \n",
      "Failed on retrieve \n",
      "Failed on retrieve \n",
      "Failed on retrieve Resource not found.\n",
      "Failed on retrieve \n",
      "Failed on retrieve \n",
      "Failed on retrieve \n",
      "Failed on retrieve \n",
      "Failed on retrieve \n",
      "Failed on retrieve Resource not found.\n",
      "Failed on retrieve \n",
      "Failed on retrieve \n",
      "Failed on retrieve \n",
      "Failed on retrieve \n",
      "Failed on retrieve \n",
      "Failed on retrieve \n",
      "Failed on retrieve \n",
      "Failed on retrieve Resource not found.\n",
      "Failed on retrieve \n",
      "Failed on retrieve Resource not found.\n",
      "Failed on retrieve Resource not found.\n",
      "Failed on retrieve Resource not found.\n",
      "Failed on retrieve Resource not found.\n",
      "Failed on retrieve \n",
      "Failed on retrieve \n",
      "Failed on retrieve \n",
      "Failed on retrieve Resource not found.\n",
      "Failed on retrieve \n",
      "Failed on retrieve \n",
      "Failed on retrieve \n",
      "Failed on retrieve \n",
      "Failed on retrieve \n",
      "Failed on retrieve Resource not found.\n",
      "Failed on retrieve \n",
      "Failed on retrieve \n",
      "Failed on retrieve \n",
      "Failed on retrieve \n",
      "Failed on retrieve Resource not found.\n",
      "Failed on retrieve \n",
      "Failed on retrieve Resource not found.\n",
      "Failed on retrieve \n",
      "Failed on retrieve \n",
      "Failed on retrieve \n",
      "Failed on retrieve Resource not found.\n",
      "Failed on retrieve \n",
      "Failed on retrieve \n",
      "Failed on retrieve Resource not found.\n",
      "Failed on retrieve Resource not found.\n",
      "Failed on retrieve Resource not found.\n",
      "Failed on retrieve \n",
      "Failed on retrieve \n",
      "Failed on retrieve \n",
      "Failed on retrieve Resource not found.\n",
      "Failed on retrieve \n",
      "Failed on retrieve \n",
      "Failed on retrieve \n",
      "Failed on retrieve \n",
      "Failed on retrieve \n",
      "Failed on retrieve Resource not found.\n",
      "Failed on retrieve Resource not found.\n",
      "Failed on retrieve \n",
      "Failed on retrieve Resource not found.\n",
      "Failed on retrieve \n",
      "Failed on retrieve Resource not found.\n",
      "Failed on retrieve \n",
      "Failed on retrieve \n",
      "Failed on retrieve \n",
      "Failed on retrieve Resource not found.\n",
      "Failed on retrieve Resource not found.\n",
      "Failed on retrieve Resource not found.\n",
      "Failed on retrieve \n",
      "Failed on retrieve \n",
      "\n"
     ]
    }
   ],
   "source": [
    "import requests, json\n",
    "from tqdm.notebook import tqdm\n",
    "import re\n",
    "\n",
    "\n",
    "data = []\n",
    "\n",
    "for record in tqdm(document.find('records').findall('record')):\n",
    "    # retrieve information from the xml file\n",
    "    \n",
    "    title = record.find('./titles/title').text\n",
    "    \n",
    "    authors = [author.text for author in record.findall('./contributors/authors/author')]\n",
    "    keywords = [keyword.text for keyword in record.findall('./keywords/keyword')]\n",
    "    abstract = record.find('./abstract')\n",
    "    abstract = abstract.text if abstract != None else ''\n",
    "    doi = record.find('./electronic-resource-num')\n",
    "    doi = doi.text if doi != None else ''\n",
    "    \n",
    "    if abstract == '':\n",
    "        continue\n",
    "    \n",
    "    # cross publication using crossref api\n",
    "    title_doi = ''\n",
    "    publisher = ''\n",
    "    container = ''\n",
    "    published = ''\n",
    "    authors_doi = []\n",
    "    affiliations = []\n",
    "    url = ''\n",
    "    language = ''\n",
    "    subject = []\n",
    "    html = ''\n",
    "    \n",
    "    \n",
    "    if doi != '' and '/' in doi:\n",
    "        num, text = doi.split('/', maxsplit=1)        \n",
    "        try:\n",
    "            html = requests.get(\"https://api.crossref.org/v1/works/http://dx.doi.org/{0}/{1}\".format(num, text)).text\n",
    "        except requests.ConnectionError:\n",
    "            html = ''\n",
    "            print('Failed on doi', doi)\n",
    "\n",
    "    if '503 Service Unavailable' in html or \\\n",
    "        html == 'Resource not found.' or \\\n",
    "        html == '' or json.loads(html)['status'] == 'failed':\n",
    "        print('Failed on retrieve', html)\n",
    "    else:                 \n",
    "        data_json = json.loads(html)['message']\n",
    "\n",
    "        title_doi = data_json['title'][0] if 'title' in data_json else ''\n",
    "        publisher = data_json['publisher'] if 'publisher' in data_json else ''\n",
    "        container = data_json['container-title'] if 'container-title' in data_json else ''\n",
    "        published = data_json['created']['date-time'] if 'created' in data_json else ''\n",
    "        language  = data_json['language'] if 'language' in data_json else ''\n",
    "\n",
    "        if 'author' in data_json:\n",
    "            for author in data_json['author']:\n",
    "                if 'given' in author and 'family' in author:\n",
    "                    authors_doi.append(author['given'] + ' ' + author['family'])\n",
    "                if 'affiliation' in author and len(author['affiliation']) > 0:\n",
    "                    affiliations.append(author['affiliation'][0]['name'])\n",
    "\n",
    "        url = data_json['URL'] if 'URL' in data_json else ''\n",
    "        subject = data_json['subject'] if 'subject' in data_json else []\n",
    "        \n",
    "    data.append([title, title_doi, url, doi, authors, authors_doi, affiliations, publisher, container, published, keywords, subject, abstract])"
   ]
  },
  {
   "cell_type": "code",
   "execution_count": 3,
   "metadata": {},
   "outputs": [],
   "source": [
    "import pandas as pd\n",
    "\n",
    "# Converting to dataframe\n",
    "df = pd.DataFrame(data, columns = ['title', 'title_doi', 'url', 'doi', 'authors', 'authors_doi', 'affiliation', 'publisher', 'container', 'published', 'keywords', 'subject', 'abstract'])"
   ]
  },
  {
   "cell_type": "code",
   "execution_count": 4,
   "metadata": {},
   "outputs": [
    {
     "data": {
      "text/html": [
       "<div>\n",
       "<style scoped>\n",
       "    .dataframe tbody tr th:only-of-type {\n",
       "        vertical-align: middle;\n",
       "    }\n",
       "\n",
       "    .dataframe tbody tr th {\n",
       "        vertical-align: top;\n",
       "    }\n",
       "\n",
       "    .dataframe thead th {\n",
       "        text-align: right;\n",
       "    }\n",
       "</style>\n",
       "<table border=\"1\" class=\"dataframe\">\n",
       "  <thead>\n",
       "    <tr style=\"text-align: right;\">\n",
       "      <th></th>\n",
       "      <th>title</th>\n",
       "      <th>title_doi</th>\n",
       "      <th>url</th>\n",
       "      <th>doi</th>\n",
       "      <th>authors</th>\n",
       "      <th>authors_doi</th>\n",
       "      <th>affiliation</th>\n",
       "      <th>publisher</th>\n",
       "      <th>container</th>\n",
       "      <th>published</th>\n",
       "      <th>keywords</th>\n",
       "      <th>subject</th>\n",
       "      <th>abstract</th>\n",
       "    </tr>\n",
       "  </thead>\n",
       "  <tbody>\n",
       "    <tr>\n",
       "      <th>0</th>\n",
       "      <td>The transmissibility of novel Coronavirus in t...</td>\n",
       "      <td>The transmissibility of novel Coronavirus in t...</td>\n",
       "      <td>http://dx.doi.org/10.12688/wellcomeopenres.157...</td>\n",
       "      <td>10.12688/wellcomeopenres.15718.1</td>\n",
       "      <td>[Abbott, Sam, Hellewell, Joel, Munday, James, ...</td>\n",
       "      <td>[Sam Abbott, Joel Hellewell, James Munday, Seb...</td>\n",
       "      <td>[]</td>\n",
       "      <td>F1000 Research Ltd</td>\n",
       "      <td>[Wellcome Open Research]</td>\n",
       "      <td>2020-02-03T15:10:06Z</td>\n",
       "      <td>[coronavirus, modelling, outbreak, transmissio...</td>\n",
       "      <td>[]</td>\n",
       "      <td>&lt;p&gt; &lt;bold&gt;Background&lt;/bold&gt; : The current nove...</td>\n",
       "    </tr>\n",
       "    <tr>\n",
       "      <th>1</th>\n",
       "      <td>Development of CRISPR as a prophylactic strate...</td>\n",
       "      <td>Development of CRISPR as a prophylactic strate...</td>\n",
       "      <td>http://dx.doi.org/10.1101/2020.03.13.991307</td>\n",
       "      <td>10.1101/2020.03.13.991307</td>\n",
       "      <td>[Abbott, Timothy R, Dhamdhere, Girija, Liu, Ya...</td>\n",
       "      <td>[Timothy R. Abbott, Girija Dhamdhere, Yanxia L...</td>\n",
       "      <td>[]</td>\n",
       "      <td>Cold Spring Harbor Laboratory</td>\n",
       "      <td>[]</td>\n",
       "      <td>2020-03-15T04:45:10Z</td>\n",
       "      <td>[]</td>\n",
       "      <td>[]</td>\n",
       "      <td>The outbreak of the coronavirus disease 2019 (...</td>\n",
       "    </tr>\n",
       "    <tr>\n",
       "      <th>2</th>\n",
       "      <td>Design of multi epitope-based peptide vaccine ...</td>\n",
       "      <td>Design of multi epitope-based peptide vaccine ...</td>\n",
       "      <td>http://dx.doi.org/10.1101/2020.02.04.934232</td>\n",
       "      <td>10.1101/2020.02.04.934232</td>\n",
       "      <td>[Abdelmageed, Miysaa I., Abdelmoneim, Abdelrah...</td>\n",
       "      <td>[Miyssa I. Abdelmageed, Abdelrahman H. Abdelmo...</td>\n",
       "      <td>[]</td>\n",
       "      <td>Cold Spring Harbor Laboratory</td>\n",
       "      <td>[]</td>\n",
       "      <td>2020-02-12T06:05:25Z</td>\n",
       "      <td>[]</td>\n",
       "      <td>[]</td>\n",
       "      <td>Background: on the late December 2019, a new e...</td>\n",
       "    </tr>\n",
       "    <tr>\n",
       "      <th>3</th>\n",
       "      <td>Evaluating the impact of international airline...</td>\n",
       "      <td>Evaluating the impact of international airline...</td>\n",
       "      <td>http://dx.doi.org/10.1101/2020.02.20.20025882</td>\n",
       "      <td>10.1101/2020.02.20.20025882</td>\n",
       "      <td>[Adiga, Aniruddha, Venkatramanan, Srinivasan, ...</td>\n",
       "      <td>[Aniruddha Adiga, Srinivasan Venkatramanan, Ja...</td>\n",
       "      <td>[]</td>\n",
       "      <td>Cold Spring Harbor Laboratory</td>\n",
       "      <td>[]</td>\n",
       "      <td>2020-02-24T09:36:20Z</td>\n",
       "      <td>[]</td>\n",
       "      <td>[]</td>\n",
       "      <td>Global airline networks play a key role in the...</td>\n",
       "    </tr>\n",
       "    <tr>\n",
       "      <th>4</th>\n",
       "      <td>Preliminary identification of potential vaccin...</td>\n",
       "      <td>Preliminary identification of potential vaccin...</td>\n",
       "      <td>http://dx.doi.org/10.1101/2020.02.03.933226</td>\n",
       "      <td>10.1101/2020.02.03.933226</td>\n",
       "      <td>[Ahmed, Syed Faraz, Quadeer, Ahmed A., McKay, ...</td>\n",
       "      <td>[Syed Faraz Ahmed, Ahmed A. Quadeer, Matthew R...</td>\n",
       "      <td>[]</td>\n",
       "      <td>Cold Spring Harbor Laboratory</td>\n",
       "      <td>[]</td>\n",
       "      <td>2020-02-05T03:45:15Z</td>\n",
       "      <td>[]</td>\n",
       "      <td>[]</td>\n",
       "      <td>The beginning of 2020 has seen the emergence o...</td>\n",
       "    </tr>\n",
       "  </tbody>\n",
       "</table>\n",
       "</div>"
      ],
      "text/plain": [
       "                                               title  \\\n",
       "0  The transmissibility of novel Coronavirus in t...   \n",
       "1  Development of CRISPR as a prophylactic strate...   \n",
       "2  Design of multi epitope-based peptide vaccine ...   \n",
       "3  Evaluating the impact of international airline...   \n",
       "4  Preliminary identification of potential vaccin...   \n",
       "\n",
       "                                           title_doi  \\\n",
       "0  The transmissibility of novel Coronavirus in t...   \n",
       "1  Development of CRISPR as a prophylactic strate...   \n",
       "2  Design of multi epitope-based peptide vaccine ...   \n",
       "3  Evaluating the impact of international airline...   \n",
       "4  Preliminary identification of potential vaccin...   \n",
       "\n",
       "                                                 url  \\\n",
       "0  http://dx.doi.org/10.12688/wellcomeopenres.157...   \n",
       "1        http://dx.doi.org/10.1101/2020.03.13.991307   \n",
       "2        http://dx.doi.org/10.1101/2020.02.04.934232   \n",
       "3      http://dx.doi.org/10.1101/2020.02.20.20025882   \n",
       "4        http://dx.doi.org/10.1101/2020.02.03.933226   \n",
       "\n",
       "                                doi  \\\n",
       "0  10.12688/wellcomeopenres.15718.1   \n",
       "1         10.1101/2020.03.13.991307   \n",
       "2         10.1101/2020.02.04.934232   \n",
       "3       10.1101/2020.02.20.20025882   \n",
       "4         10.1101/2020.02.03.933226   \n",
       "\n",
       "                                             authors  \\\n",
       "0  [Abbott, Sam, Hellewell, Joel, Munday, James, ...   \n",
       "1  [Abbott, Timothy R, Dhamdhere, Girija, Liu, Ya...   \n",
       "2  [Abdelmageed, Miysaa I., Abdelmoneim, Abdelrah...   \n",
       "3  [Adiga, Aniruddha, Venkatramanan, Srinivasan, ...   \n",
       "4  [Ahmed, Syed Faraz, Quadeer, Ahmed A., McKay, ...   \n",
       "\n",
       "                                         authors_doi affiliation  \\\n",
       "0  [Sam Abbott, Joel Hellewell, James Munday, Seb...          []   \n",
       "1  [Timothy R. Abbott, Girija Dhamdhere, Yanxia L...          []   \n",
       "2  [Miyssa I. Abdelmageed, Abdelrahman H. Abdelmo...          []   \n",
       "3  [Aniruddha Adiga, Srinivasan Venkatramanan, Ja...          []   \n",
       "4  [Syed Faraz Ahmed, Ahmed A. Quadeer, Matthew R...          []   \n",
       "\n",
       "                       publisher                 container  \\\n",
       "0             F1000 Research Ltd  [Wellcome Open Research]   \n",
       "1  Cold Spring Harbor Laboratory                        []   \n",
       "2  Cold Spring Harbor Laboratory                        []   \n",
       "3  Cold Spring Harbor Laboratory                        []   \n",
       "4  Cold Spring Harbor Laboratory                        []   \n",
       "\n",
       "              published                                           keywords  \\\n",
       "0  2020-02-03T15:10:06Z  [coronavirus, modelling, outbreak, transmissio...   \n",
       "1  2020-03-15T04:45:10Z                                                 []   \n",
       "2  2020-02-12T06:05:25Z                                                 []   \n",
       "3  2020-02-24T09:36:20Z                                                 []   \n",
       "4  2020-02-05T03:45:15Z                                                 []   \n",
       "\n",
       "  subject                                           abstract  \n",
       "0      []  <p> <bold>Background</bold> : The current nove...  \n",
       "1      []  The outbreak of the coronavirus disease 2019 (...  \n",
       "2      []  Background: on the late December 2019, a new e...  \n",
       "3      []  Global airline networks play a key role in the...  \n",
       "4      []  The beginning of 2020 has seen the emergence o...  "
      ]
     },
     "execution_count": 4,
     "metadata": {},
     "output_type": "execute_result"
    }
   ],
   "source": [
    "df.head()"
   ]
  },
  {
   "cell_type": "code",
   "execution_count": 5,
   "metadata": {},
   "outputs": [
    {
     "data": {
      "text/plain": [
       "64"
      ]
     },
     "execution_count": 5,
     "metadata": {},
     "output_type": "execute_result"
    }
   ],
   "source": [
    "# records with no digital identifiers\n",
    "\n",
    "len(df[df['doi'] == ''])"
   ]
  },
  {
   "cell_type": "code",
   "execution_count": 6,
   "metadata": {},
   "outputs": [
    {
     "data": {
      "text/plain": [
       "89"
      ]
     },
     "execution_count": 6,
     "metadata": {},
     "output_type": "execute_result"
    }
   ],
   "source": [
    "# records with no reference in crossref\n",
    "\n",
    "len(df[df['published'] == ''])"
   ]
  },
  {
   "cell_type": "markdown",
   "metadata": {},
   "source": [
    "## Crossing\n",
    "\n",
    "In order to validate the retrieved titles based on doi from the crossref website, we use jaro winkler distance to match the titles. One can use other string similarity metrics such as cosine, jaccard, etc."
   ]
  },
  {
   "cell_type": "code",
   "execution_count": 7,
   "metadata": {},
   "outputs": [],
   "source": [
    "import jellyfish\n",
    "\n",
    "df['doi_match'] = df.apply(lambda row: jellyfish.jaro_winkler(row['title'].lower(), row['title_doi'].lower()), axis=1)"
   ]
  },
  {
   "cell_type": "code",
   "execution_count": 8,
   "metadata": {},
   "outputs": [
    {
     "data": {
      "text/plain": [
       "<matplotlib.axes._subplots.AxesSubplot at 0x111b8cf90>"
      ]
     },
     "execution_count": 8,
     "metadata": {},
     "output_type": "execute_result"
    },
    {
     "data": {
      "image/png": "[encoded data removed]",
      "text/plain": [
       "<Figure size 432x288 with 1 Axes>"
      ]
     },
     "metadata": {
      "needs_background": "light"
     },
     "output_type": "display_data"
    }
   ],
   "source": [
    "df['doi_match'].hist()"
   ]
  },
  {
   "cell_type": "code",
   "execution_count": 11,
   "metadata": {},
   "outputs": [
    {
     "data": {
      "text/html": [
       "<div>\n",
       "<style scoped>\n",
       "    .dataframe tbody tr th:only-of-type {\n",
       "        vertical-align: middle;\n",
       "    }\n",
       "\n",
       "    .dataframe tbody tr th {\n",
       "        vertical-align: top;\n",
       "    }\n",
       "\n",
       "    .dataframe thead th {\n",
       "        text-align: right;\n",
       "    }\n",
       "</style>\n",
       "<table border=\"1\" class=\"dataframe\">\n",
       "  <thead>\n",
       "    <tr style=\"text-align: right;\">\n",
       "      <th></th>\n",
       "      <th>title</th>\n",
       "      <th>title_doi</th>\n",
       "      <th>url</th>\n",
       "      <th>doi</th>\n",
       "      <th>authors</th>\n",
       "      <th>authors_doi</th>\n",
       "      <th>affiliation</th>\n",
       "      <th>publisher</th>\n",
       "      <th>container</th>\n",
       "      <th>published</th>\n",
       "      <th>keywords</th>\n",
       "      <th>subject</th>\n",
       "      <th>abstract</th>\n",
       "      <th>doi_match</th>\n",
       "    </tr>\n",
       "  </thead>\n",
       "  <tbody>\n",
       "    <tr>\n",
       "      <th>333</th>\n",
       "      <td>OUP accepted manuscript</td>\n",
       "      <td>A qualitative study of zoonotic risk factors a...</td>\n",
       "      <td>http://dx.doi.org/10.1093/inthealth/ihaa001</td>\n",
       "      <td>10.1093/inthealth/ihaa001</td>\n",
       "      <td>[Li, Hong-Ying, Zhu, Guang-Jian, Zhang, Yun-Zh...</td>\n",
       "      <td>[Hong-Ying Li, Guang-Jian Zhu, Yun-Zhi Zhang, ...</td>\n",
       "      <td>[EcoHealth Alliance, 460 West 34th Street, New...</td>\n",
       "      <td>Oxford University Press (OUP)</td>\n",
       "      <td>[International Health]</td>\n",
       "      <td>2020-01-09T04:19:55Z</td>\n",
       "      <td>[2019-nCoV, SARS, Zoonotic Risk, coronavirus, ...</td>\n",
       "      <td>[Public Health, Environmental and Occupational...</td>\n",
       "      <td>Background: Strategies are urgently needed to ...</td>\n",
       "      <td>0.524444</td>\n",
       "    </tr>\n",
       "    <tr>\n",
       "      <th>255</th>\n",
       "      <td>Homologous recombination within the spike glyc...</td>\n",
       "      <td>Cross‐species transmission of the newly identi...</td>\n",
       "      <td>http://dx.doi.org/10.1002/jmv.25682</td>\n",
       "      <td>10.1002/jmv.25682</td>\n",
       "      <td>[Ji, Wei, Wang, Wei, Zhao, Xiaofang, Zai, Junj...</td>\n",
       "      <td>[Wei Ji, Wei Wang, Xiaofang Zhao, Junjie Zai, ...</td>\n",
       "      <td>[Department of MicrobiologyPeking University H...</td>\n",
       "      <td>Wiley</td>\n",
       "      <td>[Journal of Medical Virology]</td>\n",
       "      <td>2020-01-22T12:49:42Z</td>\n",
       "      <td>[2019-nCoV, RSCU, cross-species transmission, ...</td>\n",
       "      <td>[Virology, Infectious Diseases]</td>\n",
       "      <td>The current outbreak of viral pneumonia in the...</td>\n",
       "      <td>0.606522</td>\n",
       "    </tr>\n",
       "    <tr>\n",
       "      <th>433</th>\n",
       "      <td>The transmembrane serine protease inhibitors a...</td>\n",
       "      <td>The insert sequence in SARS-CoV-2 enhances spi...</td>\n",
       "      <td>http://dx.doi.org/10.1101/2020.02.08.926006</td>\n",
       "      <td>10.1101/2020.02.08.926006</td>\n",
       "      <td>[Meng, Tong, Cao, Hao, Zhang, Hao, Kang, Zijia...</td>\n",
       "      <td>[Tong Meng, Hao Cao, Hao Zhang, Zijian Kang, D...</td>\n",
       "      <td>[]</td>\n",
       "      <td>Cold Spring Harbor Laboratory</td>\n",
       "      <td>[]</td>\n",
       "      <td>2020-02-12T06:09:40Z</td>\n",
       "      <td>[]</td>\n",
       "      <td>[]</td>\n",
       "      <td>The 2019 novel coronavirus (2019-nCoV) induces...</td>\n",
       "      <td>0.622319</td>\n",
       "    </tr>\n",
       "    <tr>\n",
       "      <th>267</th>\n",
       "      <td>Structure-based drug design, virtual screening...</td>\n",
       "      <td>Structure of Mpro from COVID-19 virus and disc...</td>\n",
       "      <td>http://dx.doi.org/10.1101/2020.02.26.964882</td>\n",
       "      <td>10.1101/2020.02.26.964882</td>\n",
       "      <td>[Jin, Zhenming, Du, Xiaoyu, Xu, Yechun, Deng, ...</td>\n",
       "      <td>[Zhenming Jin, Xiaoyu Du, Yechun Xu, Yongqiang...</td>\n",
       "      <td>[]</td>\n",
       "      <td>Cold Spring Harbor Laboratory</td>\n",
       "      <td>[]</td>\n",
       "      <td>2020-02-28T07:55:16Z</td>\n",
       "      <td>[]</td>\n",
       "      <td>[]</td>\n",
       "      <td>A coronavirus identified as 2019 novel coronav...</td>\n",
       "      <td>0.628478</td>\n",
       "    </tr>\n",
       "    <tr>\n",
       "      <th>404</th>\n",
       "      <td>SARS-CoV-2 sensitive to type I interferon pret...</td>\n",
       "      <td>Type I interferon susceptibility distinguishes...</td>\n",
       "      <td>http://dx.doi.org/10.1101/2020.03.07.982264</td>\n",
       "      <td>10.1101/2020.03.07.982264</td>\n",
       "      <td>[Lokugamage, Kumari G, Schindewolf, Craig, Men...</td>\n",
       "      <td>[Kumari G. Lokugamage, Adam Hage, Maren de Vri...</td>\n",
       "      <td>[]</td>\n",
       "      <td>Cold Spring Harbor Laboratory</td>\n",
       "      <td>[]</td>\n",
       "      <td>2020-03-10T06:05:10Z</td>\n",
       "      <td>[]</td>\n",
       "      <td>[]</td>\n",
       "      <td>SARS-CoV-2, a novel coronavirus (CoV), has rec...</td>\n",
       "      <td>0.642205</td>\n",
       "    </tr>\n",
       "  </tbody>\n",
       "</table>\n",
       "</div>"
      ],
      "text/plain": [
       "                                                 title  \\\n",
       "333                            OUP accepted manuscript   \n",
       "255  Homologous recombination within the spike glyc...   \n",
       "433  The transmembrane serine protease inhibitors a...   \n",
       "267  Structure-based drug design, virtual screening...   \n",
       "404  SARS-CoV-2 sensitive to type I interferon pret...   \n",
       "\n",
       "                                             title_doi  \\\n",
       "333  A qualitative study of zoonotic risk factors a...   \n",
       "255  Cross‐species transmission of the newly identi...   \n",
       "433  The insert sequence in SARS-CoV-2 enhances spi...   \n",
       "267  Structure of Mpro from COVID-19 virus and disc...   \n",
       "404  Type I interferon susceptibility distinguishes...   \n",
       "\n",
       "                                             url                        doi  \\\n",
       "333  http://dx.doi.org/10.1093/inthealth/ihaa001  10.1093/inthealth/ihaa001   \n",
       "255          http://dx.doi.org/10.1002/jmv.25682          10.1002/jmv.25682   \n",
       "433  http://dx.doi.org/10.1101/2020.02.08.926006  10.1101/2020.02.08.926006   \n",
       "267  http://dx.doi.org/10.1101/2020.02.26.964882  10.1101/2020.02.26.964882   \n",
       "404  http://dx.doi.org/10.1101/2020.03.07.982264  10.1101/2020.03.07.982264   \n",
       "\n",
       "                                               authors  \\\n",
       "333  [Li, Hong-Ying, Zhu, Guang-Jian, Zhang, Yun-Zh...   \n",
       "255  [Ji, Wei, Wang, Wei, Zhao, Xiaofang, Zai, Junj...   \n",
       "433  [Meng, Tong, Cao, Hao, Zhang, Hao, Kang, Zijia...   \n",
       "267  [Jin, Zhenming, Du, Xiaoyu, Xu, Yechun, Deng, ...   \n",
       "404  [Lokugamage, Kumari G, Schindewolf, Craig, Men...   \n",
       "\n",
       "                                           authors_doi  \\\n",
       "333  [Hong-Ying Li, Guang-Jian Zhu, Yun-Zhi Zhang, ...   \n",
       "255  [Wei Ji, Wei Wang, Xiaofang Zhao, Junjie Zai, ...   \n",
       "433  [Tong Meng, Hao Cao, Hao Zhang, Zijian Kang, D...   \n",
       "267  [Zhenming Jin, Xiaoyu Du, Yechun Xu, Yongqiang...   \n",
       "404  [Kumari G. Lokugamage, Adam Hage, Maren de Vri...   \n",
       "\n",
       "                                           affiliation  \\\n",
       "333  [EcoHealth Alliance, 460 West 34th Street, New...   \n",
       "255  [Department of MicrobiologyPeking University H...   \n",
       "433                                                 []   \n",
       "267                                                 []   \n",
       "404                                                 []   \n",
       "\n",
       "                         publisher                      container  \\\n",
       "333  Oxford University Press (OUP)         [International Health]   \n",
       "255                          Wiley  [Journal of Medical Virology]   \n",
       "433  Cold Spring Harbor Laboratory                             []   \n",
       "267  Cold Spring Harbor Laboratory                             []   \n",
       "404  Cold Spring Harbor Laboratory                             []   \n",
       "\n",
       "                published                                           keywords  \\\n",
       "333  2020-01-09T04:19:55Z  [2019-nCoV, SARS, Zoonotic Risk, coronavirus, ...   \n",
       "255  2020-01-22T12:49:42Z  [2019-nCoV, RSCU, cross-species transmission, ...   \n",
       "433  2020-02-12T06:09:40Z                                                 []   \n",
       "267  2020-02-28T07:55:16Z                                                 []   \n",
       "404  2020-03-10T06:05:10Z                                                 []   \n",
       "\n",
       "                                               subject  \\\n",
       "333  [Public Health, Environmental and Occupational...   \n",
       "255                    [Virology, Infectious Diseases]   \n",
       "433                                                 []   \n",
       "267                                                 []   \n",
       "404                                                 []   \n",
       "\n",
       "                                              abstract  doi_match  \n",
       "333  Background: Strategies are urgently needed to ...   0.524444  \n",
       "255  The current outbreak of viral pneumonia in the...   0.606522  \n",
       "433  The 2019 novel coronavirus (2019-nCoV) induces...   0.622319  \n",
       "267  A coronavirus identified as 2019 novel coronav...   0.628478  \n",
       "404  SARS-CoV-2, a novel coronavirus (CoV), has rec...   0.642205  "
      ]
     },
     "execution_count": 11,
     "metadata": {},
     "output_type": "execute_result"
    }
   ],
   "source": [
    "df[df['title_doi'] != ''].sort_values('doi_match').head()"
   ]
  },
  {
   "cell_type": "markdown",
   "metadata": {},
   "source": [
    "Most of the article titles seems to be matching the title in the xml file. The main reasons for the mismatch are the following:\n",
    "\n",
    "- Response Not Found for the crossref api. \n",
    "    - One can use other end points for verifications.\n",
    "- Missing doi in the xml file. \n",
    "    - One can use other fields like title and authors to verify the results.\n",
    "- Change of title due to different versioning. (authors are the same)\n",
    "    - 'Homologous recombination within the spike glycoprotein of the newly identified coronavirus may boost cross-species transmission from snake to human',\n",
    "    - 'Cross‐species transmission of the newly identified coronavirus 2019‐nCoV'\n",
    "- Changes in the title due to new results. (authors are different)\n",
    "     - 'Structure-based drug design, virtual screening and high-throughput screening rapidly identify antiviral leads targeting COVID-19'\n",
    "     - 'Structure of Mpro from COVID-19 virus and discovery of its inhibitors'    \n",
    "     \n",
    "The main focus of this analysis is to perform topic modeling on the existing abstracts. However, it is always preferred to use an api endpoint to retrieve the latest version of the publications. "
   ]
  },
  {
   "cell_type": "markdown",
   "metadata": {},
   "source": [
    "## Removing Duplicate Records"
   ]
  },
  {
   "cell_type": "code",
   "execution_count": 12,
   "metadata": {},
   "outputs": [
    {
     "data": {
      "text/plain": [
       "(83, 18, 6)"
      ]
     },
     "execution_count": 12,
     "metadata": {},
     "output_type": "execute_result"
    }
   ],
   "source": [
    "len(df[df['doi'].duplicated()]), len(df[df['title'].duplicated()]), len(df[df['abstract'].duplicated()])"
   ]
  },
  {
   "cell_type": "markdown",
   "metadata": {},
   "source": [
    "There are 27 records with duplicated doi and 18 records with duplicated titles. However, there are only 6 records with duplicated abstract. Since doi is a digital unique identifier, we can safely remove records with duplicated doi (20 records). \n",
    "\n",
    "**Note:** we can potentially use the different (pre-print) versions of the articles to further verify the results."
   ]
  },
  {
   "cell_type": "code",
   "execution_count": 13,
   "metadata": {},
   "outputs": [
    {
     "name": "stdout",
     "output_type": "stream",
     "text": [
      "851\n",
      "846\n"
     ]
    }
   ],
   "source": [
    "print(len(df)) # before removing\n",
    "dataset = df.drop_duplicates(subset=['title', 'abstract'], keep='last').reset_index(drop=True)\n",
    "print(len(dataset)) # after removing"
   ]
  },
  {
   "cell_type": "markdown",
   "metadata": {},
   "source": [
    "## Exploratory Analysis"
   ]
  },
  {
   "cell_type": "code",
   "execution_count": 14,
   "metadata": {},
   "outputs": [
    {
     "data": {
      "text/plain": [
       "<matplotlib.axes._subplots.AxesSubplot at 0x1069becd0>"
      ]
     },
     "execution_count": 14,
     "metadata": {},
     "output_type": "execute_result"
    },
    {
     "data": {
      "image/png": "[encoded data removed]",
      "text/plain": [
       "<Figure size 432x288 with 1 Axes>"
      ]
     },
     "metadata": {
      "needs_background": "light"
     },
     "output_type": "display_data"
    }
   ],
   "source": [
    "dataset['len'] = dataset['abstract'].apply(lambda x: len(x))\n",
    "dataset['len'].hist()"
   ]
  },
  {
   "cell_type": "code",
   "execution_count": 15,
   "metadata": {},
   "outputs": [
    {
     "data": {
      "text/plain": [
       "publisher\n",
       "Cold Spring Harbor Laboratory                                602\n",
       "                                                              89\n",
       "Elsevier BV                                                   29\n",
       "MDPI AG                                                       28\n",
       "Wiley                                                         14\n",
       "Oxford University Press (OUP)                                  9\n",
       "Springer Science and Business Media LLC                        7\n",
       "Informa UK Limited                                             7\n",
       "F1000 Research Ltd                                             6\n",
       "Centers for Disease Control and Prevention (CDC)               4\n",
       "European Centre for Disease Control and Prevention (ECDC)      4\n",
       "Cambridge University Press (CUP)                               4\n",
       "Radiological Society of North America (RSNA)                   4\n",
       "Massachusetts Medical Society                                  3\n",
       "Australian Government Department of Health                     3\n",
       "Centers for Disease Control MMWR Office                        3\n",
       "American Medical Association (AMA)                             2\n",
       "Journal of Infection in Developing Countries                   2\n",
       "American Society for Microbiology                              2\n",
       "Ovid Technologies (Wolters Kluwer Health)                      2\n",
       "dtype: int64"
      ]
     },
     "execution_count": 15,
     "metadata": {},
     "output_type": "execute_result"
    }
   ],
   "source": [
    "# Top Publishers\n",
    "\n",
    "dataset.groupby('publisher').size().sort_values(ascending=False)[:20]"
   ]
  },
  {
   "cell_type": "code",
   "execution_count": 16,
   "metadata": {},
   "outputs": [
    {
     "data": {
      "text/html": [
       "<div>\n",
       "<style scoped>\n",
       "    .dataframe tbody tr th:only-of-type {\n",
       "        vertical-align: middle;\n",
       "    }\n",
       "\n",
       "    .dataframe tbody tr th {\n",
       "        vertical-align: top;\n",
       "    }\n",
       "\n",
       "    .dataframe thead th {\n",
       "        text-align: right;\n",
       "    }\n",
       "</style>\n",
       "<table border=\"1\" class=\"dataframe\">\n",
       "  <thead>\n",
       "    <tr style=\"text-align: right;\">\n",
       "      <th></th>\n",
       "      <th>index</th>\n",
       "      <th>0</th>\n",
       "    </tr>\n",
       "  </thead>\n",
       "  <tbody>\n",
       "    <tr>\n",
       "      <th>0</th>\n",
       "      <td>Nishiura, Hiroshi</td>\n",
       "      <td>15</td>\n",
       "    </tr>\n",
       "    <tr>\n",
       "      <th>1</th>\n",
       "      <td>Liu, Lei</td>\n",
       "      <td>14</td>\n",
       "    </tr>\n",
       "    <tr>\n",
       "      <th>2</th>\n",
       "      <td>Chowell, Gerardo</td>\n",
       "      <td>13</td>\n",
       "    </tr>\n",
       "    <tr>\n",
       "      <th>3</th>\n",
       "      <td>Yang, Yichi</td>\n",
       "      <td>10</td>\n",
       "    </tr>\n",
       "    <tr>\n",
       "      <th>4</th>\n",
       "      <td>Kinoshita, Ryo</td>\n",
       "      <td>10</td>\n",
       "    </tr>\n",
       "    <tr>\n",
       "      <th>5</th>\n",
       "      <td>Yu, Hongjie</td>\n",
       "      <td>10</td>\n",
       "    </tr>\n",
       "    <tr>\n",
       "      <th>6</th>\n",
       "      <td>Zhao, Shi</td>\n",
       "      <td>10</td>\n",
       "    </tr>\n",
       "    <tr>\n",
       "      <th>7</th>\n",
       "      <td>Wang, Jing</td>\n",
       "      <td>9</td>\n",
       "    </tr>\n",
       "    <tr>\n",
       "      <th>8</th>\n",
       "      <td>Hayashi, Katsuma</td>\n",
       "      <td>9</td>\n",
       "    </tr>\n",
       "    <tr>\n",
       "      <th>9</th>\n",
       "      <td>Lipsitch, Marc</td>\n",
       "      <td>9</td>\n",
       "    </tr>\n",
       "    <tr>\n",
       "      <th>10</th>\n",
       "      <td>Yang, Yang</td>\n",
       "      <td>9</td>\n",
       "    </tr>\n",
       "    <tr>\n",
       "      <th>11</th>\n",
       "      <td>Chen, Yu</td>\n",
       "      <td>9</td>\n",
       "    </tr>\n",
       "    <tr>\n",
       "      <th>12</th>\n",
       "      <td>Kobayashi, Tetsuro</td>\n",
       "      <td>9</td>\n",
       "    </tr>\n",
       "    <tr>\n",
       "      <th>13</th>\n",
       "      <td>Zhang, Zheng</td>\n",
       "      <td>9</td>\n",
       "    </tr>\n",
       "    <tr>\n",
       "      <th>14</th>\n",
       "      <td>Wang, Tao</td>\n",
       "      <td>8</td>\n",
       "    </tr>\n",
       "    <tr>\n",
       "      <th>15</th>\n",
       "      <td>Wang, Ying</td>\n",
       "      <td>8</td>\n",
       "    </tr>\n",
       "    <tr>\n",
       "      <th>16</th>\n",
       "      <td>Eggo, Rosalind M</td>\n",
       "      <td>8</td>\n",
       "    </tr>\n",
       "    <tr>\n",
       "      <th>17</th>\n",
       "      <td>Chen, Jing</td>\n",
       "      <td>8</td>\n",
       "    </tr>\n",
       "    <tr>\n",
       "      <th>18</th>\n",
       "      <td>Mizumoto, Kenji</td>\n",
       "      <td>8</td>\n",
       "    </tr>\n",
       "    <tr>\n",
       "      <th>19</th>\n",
       "      <td>Yang, Lin</td>\n",
       "      <td>8</td>\n",
       "    </tr>\n",
       "  </tbody>\n",
       "</table>\n",
       "</div>"
      ],
      "text/plain": [
       "                 index   0\n",
       "0    Nishiura, Hiroshi  15\n",
       "1             Liu, Lei  14\n",
       "2     Chowell, Gerardo  13\n",
       "3          Yang, Yichi  10\n",
       "4       Kinoshita, Ryo  10\n",
       "5          Yu, Hongjie  10\n",
       "6            Zhao, Shi  10\n",
       "7           Wang, Jing   9\n",
       "8     Hayashi, Katsuma   9\n",
       "9       Lipsitch, Marc   9\n",
       "10          Yang, Yang   9\n",
       "11            Chen, Yu   9\n",
       "12  Kobayashi, Tetsuro   9\n",
       "13        Zhang, Zheng   9\n",
       "14           Wang, Tao   8\n",
       "15          Wang, Ying   8\n",
       "16    Eggo, Rosalind M   8\n",
       "17          Chen, Jing   8\n",
       "18     Mizumoto, Kenji   8\n",
       "19           Yang, Lin   8"
      ]
     },
     "execution_count": 16,
     "metadata": {},
     "output_type": "execute_result"
    }
   ],
   "source": [
    "from collections import Counter\n",
    "from  itertools import chain\n",
    "\n",
    "# Top Authors\n",
    "pd.Series(Counter(chain(*dataset['authors']))).sort_values(ascending=False)[:20].reset_index()"
   ]
  },
  {
   "cell_type": "code",
   "execution_count": 17,
   "metadata": {},
   "outputs": [],
   "source": [
    "dataset['date'] = pd.to_datetime(dataset['published']).dt.date"
   ]
  },
  {
   "cell_type": "code",
   "execution_count": 18,
   "metadata": {},
   "outputs": [
    {
     "data": {
      "text/plain": [
       "<matplotlib.axes._subplots.AxesSubplot at 0x1069bed10>"
      ]
     },
     "execution_count": 18,
     "metadata": {},
     "output_type": "execute_result"
    },
    {
     "data": {
      "image/png": "[encoded data removed]",
      "text/plain": [
       "<Figure size 1080x360 with 1 Axes>"
      ]
     },
     "metadata": {
      "needs_background": "light"
     },
     "output_type": "display_data"
    }
   ],
   "source": [
    "# Number of papers over time\n",
    "\n",
    "dataset.groupby('date').size().plot(figsize=(15,5))"
   ]
  },
  {
   "cell_type": "code",
   "execution_count": 20,
   "metadata": {},
   "outputs": [
    {
     "data": {
      "text/plain": [
       "count            757\n",
       "unique            68\n",
       "top       2020-03-06\n",
       "freq              48\n",
       "Name: date, dtype: object"
      ]
     },
     "execution_count": 20,
     "metadata": {},
     "output_type": "execute_result"
    }
   ],
   "source": [
    "dataset['date'].describe()"
   ]
  },
  {
   "cell_type": "markdown",
   "metadata": {},
   "source": [
    "The dataset seems to contain artilcles from a four month period, starting from '2020-01-09' to '2020-04-17' with a peak around '2020-03-06'."
   ]
  },
  {
   "cell_type": "code",
   "execution_count": 21,
   "metadata": {},
   "outputs": [],
   "source": [
    "dataset.to_pickle('./dataset_covid.pkl')"
   ]
  }
 ],
 "metadata": {
  "kernelspec": {
   "display_name": "WF",
   "language": "python",
   "name": "wf"
  },
  "language_info": {
   "codemirror_mode": {
    "name": "ipython",
    "version": 3
   },
   "file_extension": ".py",
   "mimetype": "text/x-python",
   "name": "python",
   "nbconvert_exporter": "python",
   "pygments_lexer": "ipython3",
   "version": "3.7.5"
  }
 },
 "nbformat": 4,
 "nbformat_minor": 2
}
